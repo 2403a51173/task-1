{
  "nbformat": 4,
  "nbformat_minor": 0,
  "metadata": {
    "colab": {
      "provenance": [],
      "authorship_tag": "ABX9TyO+Z+qkgbCN3JBPx0PoW0cu",
      "include_colab_link": true
    },
    "kernelspec": {
      "name": "python3",
      "display_name": "Python 3"
    },
    "language_info": {
      "name": "python"
    }
  },
  "cells": [
    {
      "cell_type": "markdown",
      "metadata": {
        "id": "view-in-github",
        "colab_type": "text"
      },
      "source": [
        "<a href=\"https://colab.research.google.com/github/2403a51173/task-1/blob/main/11_3.ipynb\" target=\"_parent\"><img src=\"https://colab.research.google.com/assets/colab-badge.svg\" alt=\"Open In Colab\"/></a>"
      ]
    },
    {
      "cell_type": "markdown",
      "source": [
        "task 1:\n",
        "\n",
        "Ask AI to implement a stack class with push(), pop(), peek() and\n",
        "is_empty() methods"
      ],
      "metadata": {
        "id": "1MJxOWiSgI6p"
      }
    },
    {
      "cell_type": "code",
      "execution_count": 2,
      "metadata": {
        "colab": {
          "base_uri": "https://localhost:8080/"
        },
        "id": "5-TM1Ku3fwEH",
        "outputId": "e7acc50f-a348-42b9-ae14-dbc7a7cd05b5"
      },
      "outputs": [
        {
          "output_type": "stream",
          "name": "stdout",
          "text": [
            "20\n",
            "20\n",
            "False\n"
          ]
        }
      ],
      "source": [
        "class Stack:\n",
        "    def __init__(self):\n",
        "        self.items = []\n",
        "\n",
        "    def push(self, item):\n",
        "        self.items.append(item)\n",
        "\n",
        "    def pop(self):\n",
        "        if not self.is_empty():\n",
        "            return self.items.pop()\n",
        "        else:\n",
        "            return \"Stack is empty\"\n",
        "\n",
        "    def peek(self):\n",
        "        if not self.is_empty():\n",
        "            return self.items[-1]\n",
        "        else:\n",
        "            return \"Stack is empty\"\n",
        "\n",
        "    def is_empty(self):\n",
        "        return len(self.items) == 0\n",
        "\n",
        "# Example usage:\n",
        "stack = Stack()\n",
        "stack.push(10)\n",
        "stack.push(20)\n",
        "print(stack.peek())\n",
        "print(stack.pop())\n",
        "print(stack.is_empty())"
      ]
    },
    {
      "cell_type": "markdown",
      "source": [
        "task 2:\n",
        "\n",
        "Use AI to generate a Queue class with enqueue(), dequeue(), and\n",
        "is_empty()"
      ],
      "metadata": {
        "id": "xUox8qwdgPDD"
      }
    },
    {
      "cell_type": "code",
      "source": [
        "class Queue:\n",
        "    def __init__(self):\n",
        "        self.items = []\n",
        "\n",
        "    def enqueue(self, item):\n",
        "        self.items.append(item)\n",
        "\n",
        "    def dequeue(self):\n",
        "        if not self.is_empty():\n",
        "            return self.items.pop(0)\n",
        "        else:\n",
        "            return \"Queue is empty\"\n",
        "\n",
        "    def is_empty(self):\n",
        "        return len(self.items) == 0\n",
        "\n",
        "# Example usage:\n",
        "queue = Queue()\n",
        "queue.enqueue(10)\n",
        "queue.enqueue(20)\n",
        "print(queue.dequeue())\n",
        "print(queue.is_empty())"
      ],
      "metadata": {
        "colab": {
          "base_uri": "https://localhost:8080/"
        },
        "id": "fScJjvD9gYO3",
        "outputId": "80193555-1f0e-4f62-c7ca-f92869d023a6"
      },
      "execution_count": 4,
      "outputs": [
        {
          "output_type": "stream",
          "name": "stdout",
          "text": [
            "10\n",
            "False\n"
          ]
        }
      ]
    },
    {
      "cell_type": "markdown",
      "source": [
        "task 3:\n",
        "\n",
        "Ask AI to create a singly linked list with insert_at_end(),\n",
        "insert_at_beginning(), and display()"
      ],
      "metadata": {
        "id": "ik7jGkicgp6J"
      }
    },
    {
      "cell_type": "code",
      "source": [
        "class Node:\n",
        "    def __init__(self, data):\n",
        "        self.data = data\n",
        "        self.next = None\n",
        "\n",
        "class SinglyLinkedList:\n",
        "    def __init__(self):\n",
        "        self.head = None\n",
        "\n",
        "    def insert_at_beginning(self, data):\n",
        "        new_node = Node(data)\n",
        "        new_node.next = self.head\n",
        "        self.head = new_node\n",
        "\n",
        "    def insert_at_end(self, data):\n",
        "        new_node = Node(data)\n",
        "        if self.head is None:\n",
        "            self.head = new_node\n",
        "            return\n",
        "        last_node = self.head\n",
        "        while (last_node.next):\n",
        "            last_node = last_node.next\n",
        "        last_node.next = new_node\n",
        "\n",
        "    def display(self):\n",
        "        current = self.head\n",
        "        while current:\n",
        "            print(current.data, end=\" -> \")\n",
        "            current = current.next\n",
        "        print(\"None\")\n",
        "\n",
        "# Example usage:\n",
        "linked_list = SinglyLinkedList()\n",
        "linked_list.insert_at_beginning(20)\n",
        "linked_list.insert_at_end(30)\n",
        "linked_list.insert_at_beginning(8)\n",
        "linked_list.display()"
      ],
      "metadata": {
        "colab": {
          "base_uri": "https://localhost:8080/"
        },
        "id": "mC2YGFPMgyf4",
        "outputId": "aac3a2b8-542f-413b-a78a-d3bec9d3e3b4"
      },
      "execution_count": 6,
      "outputs": [
        {
          "output_type": "stream",
          "name": "stdout",
          "text": [
            "8 -> 20 -> 30 -> None\n"
          ]
        }
      ]
    },
    {
      "cell_type": "markdown",
      "source": [
        "task 4:\n",
        "\n",
        "Ask AI to generate a simple BST with insert() and\n",
        "inorder_traversal()"
      ],
      "metadata": {
        "id": "xQdz8Kk8hUsc"
      }
    },
    {
      "cell_type": "code",
      "source": [
        "class Node:\n",
        "    def __init__(self, data):\n",
        "        self.data = data\n",
        "        self.left = None\n",
        "        self.right = None\n",
        "\n",
        "class BST:\n",
        "    def __init__(self):\n",
        "        self.root = None\n",
        "\n",
        "    def insert(self, data):\n",
        "        if self.root is None:\n",
        "            self.root = Node(data)\n",
        "        else:\n",
        "            self._insert_recursive(self.root, data)\n",
        "\n",
        "    def _insert_recursive(self, node, data):\n",
        "        if data < node.data:\n",
        "            if node.left is None:\n",
        "                node.left = Node(data)\n",
        "            else:\n",
        "                self._insert_recursive(node.left, data)\n",
        "        elif data > node.data:\n",
        "            if node.right is None:\n",
        "                node.right = Node(data)\n",
        "            else:\n",
        "                self._insert_recursive(node.right, data)\n",
        "\n",
        "    def inorder_traversal(self):\n",
        "        result = []\n",
        "        self._inorder_recursive(self.root, result)\n",
        "        return result\n",
        "\n",
        "    def _inorder_recursive(self, node, result):\n",
        "        if node:\n",
        "            self._inorder_recursive(node.left, result)\n",
        "            result.append(node.data)\n",
        "            self._inorder_recursive(node.right, result)\n",
        "\n",
        "# Example usage:\n",
        "bst = BST()\n",
        "bst.insert(30)\n",
        "bst.insert(50)\n",
        "bst.insert(20)\n",
        "bst.insert(45)\n",
        "bst.insert(70)\n",
        "bst.insert(65)\n",
        "bst.insert(80)\n",
        "print(\"Inorder traversal:\")\n",
        "bst.inorder_traversal()"
      ],
      "metadata": {
        "colab": {
          "base_uri": "https://localhost:8080/"
        },
        "id": "7MXGJxfZhexy",
        "outputId": "72be35cf-59f2-4e8f-d7e7-93158e7d1666"
      },
      "execution_count": 11,
      "outputs": [
        {
          "output_type": "stream",
          "name": "stdout",
          "text": [
            "Inorder traversal:\n"
          ]
        },
        {
          "output_type": "execute_result",
          "data": {
            "text/plain": [
              "[20, 30, 45, 50, 65, 70, 80]"
            ]
          },
          "metadata": {},
          "execution_count": 11
        }
      ]
    }
  ]
}