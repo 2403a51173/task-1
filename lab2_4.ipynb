{
  "nbformat": 4,
  "nbformat_minor": 0,
  "metadata": {
    "colab": {
      "provenance": [],
      "authorship_tag": "ABX9TyPydIJkJmn/90JFqdeQ8jx0",
      "include_colab_link": true
    },
    "kernelspec": {
      "name": "python3",
      "display_name": "Python 3"
    },
    "language_info": {
      "name": "python"
    }
  },
  "cells": [
    {
      "cell_type": "markdown",
      "metadata": {
        "id": "view-in-github",
        "colab_type": "text"
      },
      "source": [
        "<a href=\"https://colab.research.google.com/github/2403a51173/task-1/blob/main/lab2_4.ipynb\" target=\"_parent\"><img src=\"https://colab.research.google.com/assets/colab-badge.svg\" alt=\"Open In Colab\"/></a>"
      ]
    },
    {
      "cell_type": "code",
      "execution_count": null,
      "metadata": {
        "id": "D24y2bx4NxWd"
      },
      "outputs": [],
      "source": []
    },
    {
      "cell_type": "markdown",
      "source": [
        "Task 0\n",
        "Write python function to verify the given number is odd or even\n",
        "Prompt: write a python code to check whether the given number is odd or even"
      ],
      "metadata": {
        "id": "hTIUtArZOmWz"
      }
    },
    {
      "cell_type": "code",
      "source": [
        "def is_odd(number):\n",
        "  \"\"\"\n",
        "  Checks if a given number is odd.\n",
        "\n",
        "  Args:\n",
        "    number: The number to check.\n",
        "\n",
        "  Returns:\n",
        "    True if the number is odd, False otherwise.\n",
        "  \"\"\"\n",
        "  return number % 2 != 0\n",
        "\n",
        "# Example usage:\n",
        "print(is_odd(5))\n",
        "print(is_odd(4))"
      ],
      "metadata": {
        "colab": {
          "base_uri": "https://localhost:8080/"
        },
        "id": "BXkggX4VQBNj",
        "outputId": "12c8b7c2-d582-4bcd-94cf-3f5cbf8fdcfa"
      },
      "execution_count": 1,
      "outputs": [
        {
          "output_type": "stream",
          "name": "stdout",
          "text": [
            "True\n",
            "False\n"
          ]
        }
      ]
    },
    {
      "cell_type": "markdown",
      "source": [
        "Task 1\n",
        "Write Python code that sorts a list in two ways:\n",
        "1. Using bubble sort algorithm (manual implementation)\n",
        "2. Using Python's built-in sort() method\n",
        "Print both sorted lists for comparison\n",
        "prompt:generate a Python code that sorts a list in two ways:\n",
        "1. Using bubble sort algorithm (manual implementation)\n",
        "2. Using Python's built-in sort() method\n",
        "Print both sorted lists for comparison"
      ],
      "metadata": {
        "id": "nHd3ws-HR-cv"
      }
    },
    {
      "cell_type": "code",
      "source": [
        "def bubble_sort(arr):\n",
        "  \"\"\"\n",
        "  Sorts a list using the bubble sort algorithm.\n",
        "\n",
        "  Args:\n",
        "    arr: The list to sort.\n",
        "\n",
        "  Returns:\n",
        "    The sorted list.\n",
        "  \"\"\"\n",
        "  n = len(arr)\n",
        "  for i in range(n):\n",
        "    for j in range(0, n - i - 1):\n",
        "      if arr[j] > arr[j + 1]:\n",
        "        arr[j], arr[j + 1] = arr[j + 1], arr[j]\n",
        "  return arr\n",
        "\n",
        "# Example list\n",
        "my_list = [64, 34, 25, 12, 22, 11, 90]\n",
        "\n",
        "# Bubble sort\n",
        "list_bubble_sorted = bubble_sort(my_list.copy()) # Use a copy to avoid modifying the original list\n",
        "print(\"Bubble sorted list:\", list_bubble_sorted)\n",
        "\n",
        "# Built-in sort\n",
        "my_list.sort()\n",
        "print(\"Built-in sorted list:\", my_list)"
      ],
      "metadata": {
        "colab": {
          "base_uri": "https://localhost:8080/"
        },
        "id": "xfbb2G_7T46n",
        "outputId": "91f17d4b-3368-44c8-fe44-821005496cd3"
      },
      "execution_count": 2,
      "outputs": [
        {
          "output_type": "stream",
          "name": "stdout",
          "text": [
            "Bubble sorted list: [11, 12, 22, 25, 34, 64, 90]\n",
            "Built-in sorted list: [11, 12, 22, 25, 34, 64, 90]\n"
          ]
        }
      ]
    },
    {
      "cell_type": "markdown",
      "source": [
        "Task 2\n",
        "Write a Python function that takes a string and returns:\n",
        "Number of vowels\n",
        "Number of consonants\n",
        "Number of digits\n",
        "Test the function with an example string and print the results\n",
        "Prompt:generate a Python function that takes a string and returns:\n",
        "Number of vowels\n",
        "Number of consonants\n",
        "Number of digits\n",
        "Test the function with an example string and print the results"
      ],
      "metadata": {
        "id": "Ln8jp93YULz4"
      }
    },
    {
      "cell_type": "code",
      "source": [
        "def count_chars(input_string):\n",
        "  \"\"\"\n",
        "  Counts the number of vowels, consonants, and digits in a string.\n",
        "\n",
        "  Args:\n",
        "    input_string: The string to analyze.\n",
        "\n",
        "  Returns:\n",
        "    A dictionary containing the counts of vowels, consonants, and digits.\n",
        "  \"\"\"\n",
        "  vowels = \"aeiouAEIOU\"\n",
        "  consonants = \"bcdfghjklmnpqrstvwxyzBCDFGHJKLMNPQRSTVWXYZ\"\n",
        "  digits = \"0123456789\"\n",
        "\n",
        "  vowel_count = 0\n",
        "  consonant_count = 0\n",
        "  digit_count = 0\n",
        "\n",
        "  for char in input_string:\n",
        "    if char in vowels:\n",
        "      vowel_count += 1\n",
        "    elif char in consonants:\n",
        "      consonant_count += 1\n",
        "    elif char in digits:\n",
        "      digit_count += 1\n",
        "\n",
        "  return {\n",
        "      \"vowels\": vowel_count,\n",
        "      \"consonants\": consonant_count,\n",
        "      \"digits\": digit_count\n",
        "  }\n",
        "\n",
        "# Example usage:\n",
        "my_string = \"Hello123World\"\n",
        "counts = count_chars(my_string)\n",
        "print(\"Counts for the string:\", my_string)\n",
        "print(\"Vowels:\", counts[\"vowels\"])\n",
        "print(\"Consonants:\", counts[\"consonants\"])\n",
        "print(\"Digits:\", counts[\"digits\"])"
      ],
      "metadata": {
        "colab": {
          "base_uri": "https://localhost:8080/"
        },
        "id": "dgkekDROUwwT",
        "outputId": "ad8619f7-1401-4f09-b8a2-a7189a83ebfd"
      },
      "execution_count": 3,
      "outputs": [
        {
          "output_type": "stream",
          "name": "stdout",
          "text": [
            "Counts for the string: Hello123World\n",
            "Vowels: 3\n",
            "Consonants: 7\n",
            "Digits: 3\n"
          ]
        }
      ]
    },
    {
      "cell_type": "markdown",
      "source": [
        "Task 3\n",
        "Write Python code to:\n",
        "1. Create a text file\n",
        "2. Write some sample text into it\n",
        "3. Read the text from the file and display it\n",
        "prompt:generate python code to create a text, Write some sample text into it,\n",
        "Read the text from the file and display it"
      ],
      "metadata": {
        "id": "cLUhtvZhVA4t"
      }
    },
    {
      "cell_type": "code",
      "source": [
        "# Define the filename\n",
        "filename = \"my_sample_file.txt\"\n",
        "\n",
        "# Write sample text to the file\n",
        "with open(filename, \"w\") as file:\n",
        "  file.write(\"This is some sample text.\\n\")\n",
        "  file.write(\"This is the second line.\\n\")\n",
        "  file.write(\"And this is the third line.\")\n",
        "\n",
        "print(f\"Text written to {filename}\")\n",
        "\n",
        "# Read the text from the file and display it\n",
        "with open(filename, \"r\") as file:\n",
        "  file_content = file.read()\n",
        "\n",
        "print(f\"\\nContent of {filename}:\")\n",
        "print(file_content)"
      ],
      "metadata": {
        "colab": {
          "base_uri": "https://localhost:8080/"
        },
        "id": "pn8xYGIqVspD",
        "outputId": "7188bfac-c097-47ae-9449-b87368d9e655"
      },
      "execution_count": 4,
      "outputs": [
        {
          "output_type": "stream",
          "name": "stdout",
          "text": [
            "Text written to my_sample_file.txt\n",
            "\n",
            "Content of my_sample_file.txt:\n",
            "This is some sample text.\n",
            "This is the second line.\n",
            "And this is the third line.\n"
          ]
        }
      ]
    },
    {
      "cell_type": "markdown",
      "source": [
        "Task 4\n",
        "Write a Python program for a simple calculator using functions:\n",
        "add, subtract, multiply, divide\n",
        "Ask the user to select an operation and enter two numbers\n",
        "Perform the calculation and print the result.\n",
        "prompt: generate the python code for a simple calculator using functions:add   subtract, multiply, divide\n",
        "Ask the user to select an operation and enter two numbers\n",
        "Perform the calculation and print the result."
      ],
      "metadata": {
        "id": "8kDUBrDFWD1d"
      }
    },
    {
      "cell_type": "code",
      "source": [
        "def add(x, y):\n",
        "  \"\"\"Adds two numbers.\"\"\"\n",
        "  return x + y\n",
        "\n",
        "def subtract(x, y):\n",
        "  \"\"\"Subtracts two numbers.\"\"\"\n",
        "  return x - y\n",
        "\n",
        "def multiply(x, y):\n",
        "  \"\"\"Multiplies two numbers.\"\"\"\n",
        "  return x * y\n",
        "\n",
        "def divide(x, y):\n",
        "  \"\"\"Divides two numbers. Handles division by zero.\"\"\"\n",
        "  if y == 0:\n",
        "    return \"Error: Division by zero\"\n",
        "  return x / y\n",
        "\n",
        "print(\"Select operation:\")\n",
        "print(\"1. Add\")\n",
        "print(\"2. Subtract\")\n",
        "print(\"3. Multiply\")\n",
        "print(\"4. Divide\")\n",
        "\n",
        "while True:\n",
        "  choice = input(\"Enter choice(1/2/3/4): \")\n",
        "\n",
        "  if choice in ('1', '2', '3', '4'):\n",
        "    try:\n",
        "      num1 = float(input(\"Enter first number: \"))\n",
        "      num2 = float(input(\"Enter second number: \"))\n",
        "    except ValueError:\n",
        "      print(\"Invalid input. Please enter numbers.\")\n",
        "      continue\n",
        "\n",
        "    if choice == '1':\n",
        "      print(num1, \"+\", num2, \"=\", add(num1, num2))\n",
        "\n",
        "    elif choice == '2':\n",
        "      print(num1, \"-\", num2, \"=\", subtract(num1, num2))\n",
        "\n",
        "    elif choice == '3':\n",
        "      print(num1, \"*\", num2, \"=\", multiply(num1, num2))\n",
        "\n",
        "    elif choice == '4':\n",
        "      print(num1, \"/\", num2, \"=\", divide(num1, num2))\n",
        "    break\n",
        "  else:\n",
        "    print(\"Invalid input. Please enter a valid operation choice.\")"
      ],
      "metadata": {
        "colab": {
          "base_uri": "https://localhost:8080/"
        },
        "id": "5u0w4AIHWh_M",
        "outputId": "097c2c00-71e2-42da-a35f-385e66e957e6"
      },
      "execution_count": 5,
      "outputs": [
        {
          "output_type": "stream",
          "name": "stdout",
          "text": [
            "Select operation:\n",
            "1. Add\n",
            "2. Subtract\n",
            "3. Multiply\n",
            "4. Divide\n",
            "Enter choice(1/2/3/4): 1\n",
            "Enter first number: 55\n",
            "Enter second number: 99\n",
            "55.0 + 99.0 = 154.0\n"
          ]
        }
      ]
    },
    {
      "cell_type": "markdown",
      "source": [
        "Task 5\n",
        "Write a Python program that checks if a given year is a leap year.\n",
        "prompt :Write a Python program that checks if a given year is a leap year."
      ],
      "metadata": {
        "id": "ScRPUZpBZZsX"
      }
    },
    {
      "cell_type": "code",
      "source": [
        "def is_leap_year(year):\n",
        "  \"\"\"\n",
        "  Checks if a given year is a leap year.\n",
        "\n",
        "  Args:\n",
        "    year: The year to check.\n",
        "\n",
        "  Returns:\n",
        "    True if the year is a leap year, False otherwise.\n",
        "  \"\"\"\n",
        "  # Leap years are divisible by 4, unless they are divisible by 100 but not by 400.\n",
        "  return (year % 4 == 0 and year % 100 != 0) or (year % 400 == 0)\n",
        "\n",
        "# Example usage:\n",
        "year_to_check = 2024\n",
        "if is_leap_year(year_to_check):\n",
        "  print(f\"{year_to_check} is a leap year.\")\n",
        "else:\n",
        "  print(f\"{year_to_check} is not a leap year.\")\n",
        "\n",
        "year_to_check = 1900\n",
        "if is_leap_year(year_to_check):\n",
        "  print(f\"{year_to_check} is a leap year.\")\n",
        "else:\n",
        "  print(f\"{year_to_check} is not a leap year.\")\n",
        "\n",
        "year_to_check = 2000\n",
        "if is_leap_year(year_to_check):\n",
        "  print(f\"{year_to_check} is a leap year.\")\n",
        "else:\n",
        "  print(f\"{year_to_check} is not a leap year.\")"
      ],
      "metadata": {
        "colab": {
          "base_uri": "https://localhost:8080/"
        },
        "id": "laDW2kBoZleL",
        "outputId": "38b57544-f7d1-499c-ffe2-6ad2ef3337d1"
      },
      "execution_count": 7,
      "outputs": [
        {
          "output_type": "stream",
          "name": "stdout",
          "text": [
            "2024 is a leap year.\n",
            "1900 is not a leap year.\n",
            "2000 is a leap year.\n"
          ]
        }
      ]
    }
  ]
}