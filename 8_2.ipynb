{
  "nbformat": 4,
  "nbformat_minor": 0,
  "metadata": {
    "colab": {
      "provenance": [],
      "authorship_tag": "ABX9TyNCAPYRwzEjuGe2tpX3Syfj",
      "include_colab_link": true
    },
    "kernelspec": {
      "name": "python3",
      "display_name": "Python 3"
    },
    "language_info": {
      "name": "python"
    }
  },
  "cells": [
    {
      "cell_type": "markdown",
      "metadata": {
        "id": "view-in-github",
        "colab_type": "text"
      },
      "source": [
        "<a href=\"https://colab.research.google.com/github/2403a51173/task-1/blob/main/8_2.ipynb\" target=\"_parent\"><img src=\"https://colab.research.google.com/assets/colab-badge.svg\" alt=\"Open In Colab\"/></a>"
      ]
    },
    {
      "cell_type": "markdown",
      "source": [
        "task 1\n",
        "\n",
        "Use AI to generate test cases for a function is_prime(n) and then implement the\n",
        "function.\n",
        "Requirements:\n",
        "• Only integers > 1 can be prime.\n",
        "•Check edge cases: 0, 1, 2, negative numbers, and large primes"
      ],
      "metadata": {
        "id": "lzNEqf63knDp"
      }
    },
    {
      "cell_type": "code",
      "source": [
        "test_cases = [\n",
        "    # Edge cases\n",
        "    (0, False),      # 0 is not prime\n",
        "    (1, False),      # 1 is not prime\n",
        "    (2, True),       # 2 is the smallest prime\n",
        "    (-5, False),     # negative numbers are not prime\n",
        "\n",
        "    # Small primes\n",
        "    (3, True),\n",
        "    (5, True),\n",
        "    (7, True),\n",
        "    (11, True),\n",
        "\n",
        "    # Small non-primes\n",
        "    (4, False),\n",
        "    (6, False),\n",
        "    (9, False),\n",
        "    (15, False),\n",
        "\n",
        "    # Larger primes\n",
        "    (97, True),\n",
        "    (101, True),\n",
        "\n",
        "    # Larger non-primes\n",
        "    (100, False),\n",
        "    (1024, False),\n",
        "\n",
        "    # Very large prime (to test efficiency)\n",
        "    (104729, True),   # 10000th prime\n",
        "]\n",
        "import math\n",
        "def is_prime(n: int) -> bool:\n",
        "    \"\"\"Return True if n is a prime number, False otherwise.\"\"\"\n",
        "    if n <= 1:\n",
        "        return False\n",
        "    if n == 2:\n",
        "        return True\n",
        "    if n % 2 == 0:\n",
        "        return False\n",
        "\n",
        "    # check divisibility up to sqrt(n)\n",
        "    limit = int(math.sqrt(n)) + 1\n",
        "    for i in range(3, limit, 2):\n",
        "        if n % i == 0:\n",
        "            return False\n",
        "    return True\n",
        "for num, expected in test_cases:\n",
        "    result = is_prime(num)\n",
        "    print(f\"is_prime({num}) = {result}: {'PASS' if result == expected else 'FAIL'}\")"
      ],
      "metadata": {
        "colab": {
          "base_uri": "https://localhost:8080/"
        },
        "id": "fjgeAN2LkepZ",
        "outputId": "c28f5c21-25e3-4463-ebe1-73caabe22974"
      },
      "execution_count": 16,
      "outputs": [
        {
          "output_type": "stream",
          "name": "stdout",
          "text": [
            "is_prime(0) = False: PASS\n",
            "is_prime(1) = False: PASS\n",
            "is_prime(2) = True: PASS\n",
            "is_prime(-5) = False: PASS\n",
            "is_prime(3) = True: PASS\n",
            "is_prime(5) = True: PASS\n",
            "is_prime(7) = True: PASS\n",
            "is_prime(11) = True: PASS\n",
            "is_prime(4) = False: PASS\n",
            "is_prime(6) = False: PASS\n",
            "is_prime(9) = False: PASS\n",
            "is_prime(15) = False: PASS\n",
            "is_prime(97) = True: PASS\n",
            "is_prime(101) = True: PASS\n",
            "is_prime(100) = False: PASS\n",
            "is_prime(1024) = False: PASS\n",
            "is_prime(104729) = True: PASS\n"
          ]
        }
      ]
    },
    {
      "cell_type": "markdown",
      "source": [
        "task 2\n",
        "Ask AI to generate test cases for celsius_to_fahrenheit(c) and fahrenheit_to_celsius(f).\n",
        "Requirements\n",
        "• Validate known pairs: 0°C = 32°F, 100°C = 212°F.\n",
        "• Include decimals and invalid inputs like strings or None"
      ],
      "metadata": {
        "id": "LjUESBVGgxTk"
      }
    },
    {
      "cell_type": "code",
      "source": [
        "# test cases\n",
        "test_cases = [\n",
        "    # Known pairs\n",
        "    (\"c2f\", 0, 32),\n",
        "    (\"c2f\", 100, 212),\n",
        "    (\"f2c\", 32, 0),\n",
        "    (\"f2c\", 212, 100),\n",
        "\n",
        "    # Decimals\n",
        "    (\"c2f\", 37, 98.6),     # body temperature\n",
        "    (\"f2c\", 98.6, 37),\n",
        "\n",
        "    # Negative values\n",
        "    (\"c2f\", -40, -40),\n",
        "    (\"f2c\", -40, -40),\n",
        "\n",
        "    # Invalid inputs\n",
        "    (\"c2f\", \"abc\", None),\n",
        "    (\"f2c\", None, None),\n",
        "    (\"c2f\", None, None),\n",
        "    (\"f2c\", \"xyz\", None),\n",
        "]\n",
        "def celsius_to_fahrenheit(c):\n",
        "    \"\"\"Convert Celsius to Fahrenheit.\"\"\"\n",
        "    if not isinstance(c, (int, float)):\n",
        "        return None\n",
        "    return (c * 9/5) + 32\n",
        "\n",
        "\n",
        "def fahrenheit_to_celsius(f):\n",
        "    \"\"\"Convert Fahrenheit to Celsius.\"\"\"\n",
        "    if not isinstance(f, (int, float)):\n",
        "        return None\n",
        "    return (f - 32) * 5/9\n",
        "\n",
        "# Run tests\n",
        "for func, value, expected in test_cases:\n",
        "    if func == \"c2f\":\n",
        "        result = celsius_to_fahrenheit(value)\n",
        "    else:\n",
        "        result = fahrenheit_to_celsius(value)\n",
        "\n",
        "    # Allow small tolerance for decimals\n",
        "    if isinstance(result, (int, float)) and isinstance(expected, (int, float)):\n",
        "        passed = abs(result - expected) < 1e-6\n",
        "    else:\n",
        "        passed = (result == expected)\n",
        "\n",
        "    print(f\"{func}({value}) = {result} : {'PASS' if passed else 'FAIL'}\")\n"
      ],
      "metadata": {
        "colab": {
          "base_uri": "https://localhost:8080/"
        },
        "id": "C5a7jilYkuVD",
        "outputId": "7ed12210-f361-40b3-96d1-772132a58d9e"
      },
      "execution_count": 17,
      "outputs": [
        {
          "output_type": "stream",
          "name": "stdout",
          "text": [
            "c2f(0) = 32.0 : PASS\n",
            "c2f(100) = 212.0 : PASS\n",
            "f2c(32) = 0.0 : PASS\n",
            "f2c(212) = 100.0 : PASS\n",
            "c2f(37) = 98.6 : PASS\n",
            "f2c(98.6) = 37.0 : PASS\n",
            "c2f(-40) = -40.0 : PASS\n",
            "f2c(-40) = -40.0 : PASS\n",
            "c2f(abc) = None : PASS\n",
            "f2c(None) = None : PASS\n",
            "c2f(None) = None : PASS\n",
            "f2c(xyz) = None : PASS\n"
          ]
        }
      ]
    },
    {
      "cell_type": "markdown",
      "source": [
        "task 3\n",
        "\n",
        "Use AI to write test cases for a function count_words(text) that returns the number of words in a sentence.\n",
        "Requirement\n",
        "Handle normal text, multiple spaces, punctuation, and empty strings"
      ],
      "metadata": {
        "id": "V531SY_BlVs4"
      }
    },
    {
      "cell_type": "code",
      "source": [
        "# Test Cases\n",
        "# Each test case is a tuple: (input_text, expected_output)\n",
        "\n",
        "test_cases = [\n",
        "    # Normal text\n",
        "    (\"Hello world\", 2),\n",
        "    (\"This is a simple sentence\", 5),\n",
        "\n",
        "    # Multiple spaces\n",
        "    (\"Hello    world\", 2),\n",
        "    (\"   Leading and trailing spaces   \", 4),\n",
        "\n",
        "    # Punctuation\n",
        "    (\"Hello, world!\", 2),\n",
        "    (\"Python is great. Isn't it?\", 5),\n",
        "\n",
        "    # Empty strings\n",
        "    (\"\", 0),\n",
        "    (\"     \", 0),\n",
        "\n",
        "    # Mixed cases\n",
        "    (\"AI, ML & Data Science\", 4),  # Words: AI, ML, Data, Science\n",
        "]\n",
        "\n",
        "\n",
        "# Step 2: Implementation\n",
        "import re\n",
        "\n",
        "def count_words(text: str) -> int:\n",
        "    \"\"\"Return the number of words in a given sentence.\"\"\"\n",
        "    # Use regex to match words (alphanumeric + apostrophes for contractions)\n",
        "    words = re.findall(r\"\\b\\w+\\b\", text)\n",
        "    return len(words)\n",
        "#  Run Tests\n",
        "for text, expected in test_cases:\n",
        "    result = count_words(text)\n",
        "    print(f\"count_words({text!r}) = {result} : {'PASS' if result == expected else 'FAIL'}\")\n"
      ],
      "metadata": {
        "colab": {
          "base_uri": "https://localhost:8080/"
        },
        "id": "Xjce2lkul--h",
        "outputId": "43b35b02-ac75-4ce5-a333-8102e5f76a36"
      },
      "execution_count": 18,
      "outputs": [
        {
          "output_type": "stream",
          "name": "stdout",
          "text": [
            "count_words('Hello world') = 2 : PASS\n",
            "count_words('This is a simple sentence') = 5 : PASS\n",
            "count_words('Hello    world') = 2 : PASS\n",
            "count_words('   Leading and trailing spaces   ') = 4 : PASS\n",
            "count_words('Hello, world!') = 2 : PASS\n",
            "count_words(\"Python is great. Isn't it?\") = 6 : FAIL\n",
            "count_words('') = 0 : PASS\n",
            "count_words('     ') = 0 : PASS\n",
            "count_words('AI, ML & Data Science') = 4 : PASS\n"
          ]
        }
      ]
    },
    {
      "cell_type": "markdown",
      "source": [
        "task 4\n",
        "\n",
        "Generate test cases for a BankAccount class with:\n",
        "Methods:\n",
        "deposit(amount)\n",
        "withdraw(amount)\n",
        "check_balance()\n",
        "Requirements:\n",
        "• Negative deposits/withdrawals should raise an error.\n",
        "• Cannot withdraw more than balance"
      ],
      "metadata": {
        "id": "zMeG1LPsmrlK"
      }
    },
    {
      "cell_type": "code",
      "source": [
        "#  Test Cases\n",
        "# Each test case: (operation, amount, expected_result or expected_exception)\n",
        "\n",
        "test_cases = [\n",
        "    # Deposit cases\n",
        "    (\"deposit\", 100, 100),       # Normal deposit\n",
        "    (\"deposit\", -50, ValueError),# Negative deposit should raise error\n",
        "\n",
        "    # Withdraw cases\n",
        "    (\"withdraw\", 50, 50),        # Withdraw within balance\n",
        "    (\"withdraw\", 100, ValueError),# Withdraw more than balance\n",
        "    (\"withdraw\", -20, ValueError),# Negative withdraw should raise error\n",
        "\n",
        "    # Balance check\n",
        "    (\"check_balance\", None, 50), # After successful deposit/withdraw above\n",
        "]\n",
        "\n",
        "\n",
        "#  Implementation of BankAccount\n",
        "class BankAccount:\n",
        "    def __init__(self):\n",
        "        self.balance = 0\n",
        "\n",
        "    def deposit(self, amount):\n",
        "        if amount <= 0:\n",
        "            raise ValueError(\"Deposit amount must be positive\")\n",
        "        self.balance += amount\n",
        "        return self.balance\n",
        "\n",
        "    def withdraw(self, amount):\n",
        "        if amount <= 0:\n",
        "            raise ValueError(\"Withdrawal amount must be positive\")\n",
        "        if amount > self.balance:\n",
        "            raise ValueError(\"Insufficient funds\")\n",
        "        self.balance -= amount\n",
        "        return self.balance\n",
        "\n",
        "    def check_balance(self):\n",
        "        return self.balance\n",
        "\n",
        "\n",
        "#  Run the Tests\n",
        "account = BankAccount()\n",
        "for operation, amount, expected in test_cases:\n",
        "    try:\n",
        "        if operation == \"deposit\":\n",
        "            result = account.deposit(amount)\n",
        "        elif operation == \"withdraw\":\n",
        "            result = account.withdraw(amount)\n",
        "        else:  # check_balance\n",
        "            result = account.check_balance()\n",
        "\n",
        "        # Check result\n",
        "        passed = (result == expected)\n",
        "        print(f\"{operation}({amount}) = {result} : {'PASS' if passed else 'FAIL'}\")\n",
        "\n",
        "    except Exception as e:\n",
        "        passed = isinstance(e, expected)\n",
        "        print(f\"{operation}({amount}) raised {type(e).__name__} : {'PASS' if passed else 'FAIL'}\")\n"
      ],
      "metadata": {
        "colab": {
          "base_uri": "https://localhost:8080/"
        },
        "id": "_yttNO4gnA1n",
        "outputId": "a273f34a-a079-4680-ff65-2e971406decd"
      },
      "execution_count": 21,
      "outputs": [
        {
          "output_type": "stream",
          "name": "stdout",
          "text": [
            "deposit(100) = 100 : PASS\n",
            "deposit(-50) raised ValueError : PASS\n",
            "withdraw(50) = 50 : PASS\n",
            "withdraw(100) raised ValueError : PASS\n",
            "withdraw(-20) raised ValueError : PASS\n",
            "check_balance(None) = 50 : PASS\n"
          ]
        }
      ]
    },
    {
      "cell_type": "markdown",
      "source": [
        "task 5\n",
        "\n",
        "Generate test cases for is_number_palindrome(num), which checks if an integer reads the same backward.\n",
        "Examples:\n",
        "121 → True\n",
        "123 → False\n",
        "0, negative numbers → handled gracefully"
      ],
      "metadata": {
        "id": "S-vTi5jin1B0"
      }
    },
    {
      "cell_type": "code",
      "source": [
        "#  Test Cases\n",
        "# Each test case: (input_number, expected_output)\n",
        "\n",
        "test_cases = [\n",
        "    (121, True),      # Palindrome\n",
        "    (123, False),     # Not a palindrome\n",
        "    (0, True),        # Single digit is palindrome\n",
        "    (9, True),        # Single digit is palindrome\n",
        "    (1221, True),     # Even digit palindrome\n",
        "    (12321, True),    # Odd digit palindrome\n",
        "    (10, False),      # Ends with 0 (not palindrome)\n",
        "    (-121, False),    # Negative number, not palindrome\n",
        "    (1001, True),     # Palindrome with zeros in middle\n",
        "    (100, False),     # Not palindrome\n",
        "]\n",
        "\n",
        "\n",
        "#  Implementation\n",
        "def is_number_palindrome(num: int) -> bool:\n",
        "    \"\"\"Check if an integer reads the same backward.\"\"\"\n",
        "    if num < 0:\n",
        "        return False\n",
        "    return str(num) == str(num)[::-1]\n",
        "\n",
        "\n",
        "#  Run Tests\n",
        "for num, expected in test_cases:\n",
        "    result = is_number_palindrome(num)\n",
        "    print(f\"is_number_palindrome({num}) = {result} : {'PASS' if result == expected else 'FAIL'}\")\n"
      ],
      "metadata": {
        "colab": {
          "base_uri": "https://localhost:8080/"
        },
        "id": "CA3AGgMqnrq_",
        "outputId": "815ad87a-8698-49c8-d17c-ed3cee998123"
      },
      "execution_count": 23,
      "outputs": [
        {
          "output_type": "stream",
          "name": "stdout",
          "text": [
            "is_number_palindrome(121) = True : PASS\n",
            "is_number_palindrome(123) = False : PASS\n",
            "is_number_palindrome(0) = True : PASS\n",
            "is_number_palindrome(9) = True : PASS\n",
            "is_number_palindrome(1221) = True : PASS\n",
            "is_number_palindrome(12321) = True : PASS\n",
            "is_number_palindrome(10) = False : PASS\n",
            "is_number_palindrome(-121) = False : PASS\n",
            "is_number_palindrome(1001) = True : PASS\n",
            "is_number_palindrome(100) = False : PASS\n"
          ]
        }
      ]
    }
  ]
}