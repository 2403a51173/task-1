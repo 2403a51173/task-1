{
  "nbformat": 4,
  "nbformat_minor": 0,
  "metadata": {
    "colab": {
      "provenance": [],
      "authorship_tag": "ABX9TyOi7V5eOLgpAyKhcPmbKrly",
      "include_colab_link": true
    },
    "kernelspec": {
      "name": "python3",
      "display_name": "Python 3"
    },
    "language_info": {
      "name": "python"
    }
  },
  "cells": [
    {
      "cell_type": "markdown",
      "metadata": {
        "id": "view-in-github",
        "colab_type": "text"
      },
      "source": [
        "<a href=\"https://colab.research.google.com/github/2403a51173/task-1/blob/main/assignment_6_4.ipynb\" target=\"_parent\"><img src=\"https://colab.research.google.com/assets/colab-badge.svg\" alt=\"Open In Colab\"/></a>"
      ]
    },
    {
      "cell_type": "markdown",
      "source": [
        "task -1  \n",
        "Start a Python class named Student with attributes name, roll_number, and marks. Prompt GitHub Copilot to complete methods for displaying details and checking if marks are above average."
      ],
      "metadata": {
        "id": "ihIg1FAdhmwZ"
      }
    },
    {
      "cell_type": "code",
      "execution_count": 2,
      "metadata": {
        "colab": {
          "base_uri": "https://localhost:8080/"
        },
        "id": "18i87I87S-rt",
        "outputId": "9f5de6ea-ed41-43d3-a28a-c97977b69952"
      },
      "outputs": [
        {
          "output_type": "stream",
          "name": "stdout",
          "text": [
            "name: aisha\n",
            "roll_no: 101\n",
            "marks: 85\n",
            "pass\n",
            "fail\n"
          ]
        }
      ],
      "source": [
        "# write a python code  of class skeleton\n",
        "class student:\n",
        "    def __init__(self,name,roll_no,marks):\n",
        "        self.name=name\n",
        "        self.roll_no=roll_no\n",
        "        self.marks=marks\n",
        "    def display_details(self):\n",
        "        print(\"name:\",self.name)\n",
        "        print(\"roll_no:\",self.roll_no)\n",
        "        print(\"marks:\",self.marks)\n",
        "    def is_pass(self):\n",
        "        if self.marks>=40:\n",
        "            print(\"pass\")\n",
        "        else:\n",
        "            print(\"fail\")\n",
        "\n",
        "s1=student(\"aisha\",101,85)\n",
        "s2=student(\"ravi\",102,35)\n",
        "s1.display_details()\n",
        "s1.is_pass()\n",
        "s2.is_pass()"
      ]
    },
    {
      "cell_type": "markdown",
      "source": [
        "task-2\n",
        "\n",
        "Write the first two lines of a for loop to iterate through a list of numbers. Use a comment prompt to let Copilot suggest how to calculate and print the square of even numbers only\n"
      ],
      "metadata": {
        "id": "XotBxVE1h1TV"
      }
    },
    {
      "cell_type": "code",
      "source": [
        "# write the for loop for first two lines and iterate through a list of numbers and calculate the squares of even numbers\n",
        "numbers = [1, 2, 3, 4, 5,6,7,8,9,10]\n",
        "for number in numbers:\n",
        "    if number % 2 == 0:\n",
        "        print(number ** 2)\n"
      ],
      "metadata": {
        "colab": {
          "base_uri": "https://localhost:8080/"
        },
        "id": "FSjHEXBIWiOV",
        "outputId": "b1e710a0-6a03-4a23-a636-5908430a1d88"
      },
      "execution_count": 6,
      "outputs": [
        {
          "output_type": "stream",
          "name": "stdout",
          "text": [
            "4\n",
            "16\n",
            "36\n",
            "64\n",
            "100\n"
          ]
        }
      ]
    },
    {
      "cell_type": "markdown",
      "source": [
        "task-3\n",
        "\n",
        "Create a class called BankAccount with attributes account_holder and balance. Use Copilot to complete methods for deposit(), withdraw(), and check for insufficient balance"
      ],
      "metadata": {
        "id": "c8SJTqzliVbb"
      }
    },
    {
      "cell_type": "code",
      "source": [
        "# write create a class called BankAccount with attributes account_holder and balance and complete methods for deposit(), withdraw(), and check for insufficient balance\n",
        "class BankAccount:\n",
        "    def __init__(self, account_holder, balance=0):\n",
        "        self.account_holder = account_holder\n",
        "        self.balance = balance\n",
        "\n",
        "    def deposit(self, amount):\n",
        "        if amount > 0:\n",
        "            self.balance += amount\n",
        "            print(f\"Deposited {amount}. New balance: {self.balance}\")\n",
        "        else:\n",
        "            print(\"Deposit amount must be positive.\")\n",
        "\n",
        "    def withdraw(self, amount):\n",
        "        if amount > 0:\n",
        "            if self.balance >= amount:\n",
        "                self.balance -= amount\n",
        "                print(f\"Withdrew {amount}. New balance: {self.balance}\")\n",
        "            else:\n",
        "                print(\"Insufficient balance.\")\n",
        "        else:\n",
        "            print(\"Withdrawal amount must be positive.\")\n",
        "\n",
        "    def check_balance(self):\n",
        "        print(f\"Current balance for {self.account_holder}: {self.balance}\")\n",
        "\n",
        "# Example usage:\n",
        "account = BankAccount(\"John Doe\", 1000)\n",
        "account.deposit(500)\n",
        "account.withdraw(200)\n",
        "account.check_balance()\n",
        "account.withdraw(2000)\n",
        "account.check_balance()"
      ],
      "metadata": {
        "colab": {
          "base_uri": "https://localhost:8080/"
        },
        "id": "IZQoXXz0cijN",
        "outputId": "82e4e9f5-e6c4-48f2-e000-831868655015"
      },
      "execution_count": 9,
      "outputs": [
        {
          "output_type": "stream",
          "name": "stdout",
          "text": [
            "Deposited 500. New balance: 1500\n",
            "Withdrew 200. New balance: 1300\n",
            "Current balance for John Doe: 1300\n",
            "Insufficient balance.\n",
            "Current balance for John Doe: 1300\n"
          ]
        }
      ]
    },
    {
      "cell_type": "markdown",
      "source": [
        "task-4\n",
        "\n",
        "Define a list of student dictionaries with keys name and score. Ask Copilot to write a while loop to print the names of students who scored more than 75"
      ],
      "metadata": {
        "id": "4l6IlnXdieh9"
      }
    },
    {
      "cell_type": "code",
      "source": [
        "# write a list of student dictionaries with keys name and score and write a while loop to print the names of students who scored more than 75\n",
        "students = [\n",
        "    {\"name\": \"Alice\", \"score\": 88},\n",
        "    {\"name\": \"Bob\", \"score\": 60},\n",
        "    {\"name\": \"Charlie\", \"score\": 84},\n",
        "    {\"name\": \"bitu\", \"score\": 98},\n",
        "    {\"name\": \"bunny\", \"score\": 73},\n",
        "]\n",
        "index = 0\n",
        "while index < len(students):\n",
        "    student = students[index]\n",
        "    if student[\"score\"] > 75:\n",
        "        print(student[\"name\"])\n",
        "    index += 1\n"
      ],
      "metadata": {
        "colab": {
          "base_uri": "https://localhost:8080/"
        },
        "id": "9oAoE23YfnrH",
        "outputId": "402825fa-5ffa-47c6-9ebb-4e8afa1b99c0"
      },
      "execution_count": 10,
      "outputs": [
        {
          "output_type": "stream",
          "name": "stdout",
          "text": [
            "Alice\n",
            "Charlie\n",
            "bitu\n"
          ]
        }
      ]
    },
    {
      "cell_type": "markdown",
      "source": [
        "task-5\n",
        "\n",
        "Begin writing a class ShoppingCart with an empty items list. Prompt Copilot to generate methods to add_item, remove_item, and use a loop to calculate the total bill using conditional discounts"
      ],
      "metadata": {
        "id": "RjJIcqk_itE_"
      }
    },
    {
      "cell_type": "code",
      "source": [
        "# write a class ShoppingCart with an empty items list and  add_item, remove_item, and use a loop to calculate the total bill using conditional discounts\n",
        "class ShoppingCart:\n",
        "    def __init__(self):\n",
        "        self.items = []\n",
        "\n",
        "    def add_item(self, item, price, quantity=1):\n",
        "        \"\"\"Adds an item to the shopping cart.\"\"\"\n",
        "        for cart_item in self.items:\n",
        "            if cart_item['item'] == item:\n",
        "                cart_item['quantity'] += quantity\n",
        "                print(f\"Added {quantity} {item}(s). Total {item} in cart: {cart_item['quantity']}\")\n",
        "                return\n",
        "        self.items.append({'item': item, 'price': price, 'quantity': quantity})\n",
        "        print(f\"Added {quantity} {item}(s) to the cart.\")\n",
        "\n",
        "    def remove_item(self, item, quantity=1):\n",
        "        \"\"\"Removes an item from the shopping cart.\"\"\"\n",
        "        for cart_item in self.items:\n",
        "            if cart_item['item'] == item:\n",
        "                if cart_item['quantity'] >= quantity:\n",
        "                    cart_item['quantity'] -= quantity\n",
        "                    print(f\"Removed {quantity} {item}(s) from the cart.\")\n",
        "                    if cart_item['quantity'] == 0:\n",
        "                        self.items.remove(cart_item)\n",
        "                        print(f\"All {item}(s) removed from the cart.\")\n",
        "                else:\n",
        "                    print(f\"Not enough {item}(s) in the cart to remove {quantity}.\")\n",
        "                return\n",
        "        print(f\"{item} not found in the cart.\")\n",
        "\n",
        "    def calculate_total(self):\n",
        "        \"\"\"Calculates the total bill with conditional discounts.\"\"\"\n",
        "        total_bill = 0\n",
        "        for item in self.items:\n",
        "            item_total = item['price'] * item['quantity']\n",
        "            # Apply discounts based on quantity\n",
        "            if item['quantity'] >= 5:\n",
        "                item_total *= 0.9  # 10% discount for 5 or more items\n",
        "            elif item['quantity'] >= 3:\n",
        "                item_total *= 0.95 # 5% discount for 3 or 4 items\n",
        "            total_bill += item_total\n",
        "\n",
        "        # Apply overall discounts based on total bill\n",
        "        if total_bill >= 100:\n",
        "            total_bill *= 0.95 # 5% discount for total over 100\n",
        "        elif total_bill >= 50:\n",
        "            total_bill *= 0.98 # 2% discount for total over 50\n",
        "\n",
        "        return total_bill\n",
        "\n",
        "# Example usage:\n",
        "cart = ShoppingCart()\n",
        "cart.add_item(\"Apple\", 0.50, 4)\n",
        "cart.add_item(\"Banana\", 0.30, 6)\n",
        "cart.add_item(\"Orange\", 0.75, 2)\n",
        "cart.remove_item(\"Apple\", 1)\n",
        "\n",
        "print(\"\\nItems in cart:\")\n",
        "for item in cart.items:\n",
        "    print(f\"- {item['item']}: {item['quantity']} @ ${item['price']:.2f} each\")\n",
        "\n",
        "total = cart.calculate_total()\n",
        "print(f\"\\nTotal bill: ${total:.2f}\")\n",
        "\n",
        "cart.add_item(\"Apple\", 0.50, 2)\n",
        "total = cart.calculate_total()\n",
        "print(f\"\\nTotal bill: ${total:.2f}\")"
      ],
      "metadata": {
        "colab": {
          "base_uri": "https://localhost:8080/"
        },
        "id": "lSp46r9KgsAD",
        "outputId": "73159087-cb2e-4879-c2e8-13fb416eb120"
      },
      "execution_count": 11,
      "outputs": [
        {
          "output_type": "stream",
          "name": "stdout",
          "text": [
            "Added 4 Apple(s) to the cart.\n",
            "Added 6 Banana(s) to the cart.\n",
            "Added 2 Orange(s) to the cart.\n",
            "Removed 1 Apple(s) from the cart.\n",
            "\n",
            "Items in cart:\n",
            "- Apple: 3 @ $0.50 each\n",
            "- Banana: 6 @ $0.30 each\n",
            "- Orange: 2 @ $0.75 each\n",
            "\n",
            "Total bill: $4.54\n",
            "Added 2 Apple(s). Total Apple in cart: 5\n",
            "\n",
            "Total bill: $5.37\n"
          ]
        }
      ]
    },
    {
      "cell_type": "code",
      "source": [
        "from google.colab import drive\n",
        "drive.mount('/content/drive')"
      ],
      "metadata": {
        "id": "MZlnUk_9jRWt"
      },
      "execution_count": null,
      "outputs": []
    }
  ]
}