{
  "nbformat": 4,
  "nbformat_minor": 0,
  "metadata": {
    "colab": {
      "provenance": [],
      "authorship_tag": "ABX9TyP9afcfvjMkTD6q0ngQupyp",
      "include_colab_link": true
    },
    "kernelspec": {
      "name": "python3",
      "display_name": "Python 3"
    },
    "language_info": {
      "name": "python"
    }
  },
  "cells": [
    {
      "cell_type": "markdown",
      "metadata": {
        "id": "view-in-github",
        "colab_type": "text"
      },
      "source": [
        "<a href=\"https://colab.research.google.com/github/2403a51173/task-1/blob/main/12_1.ipynb\" target=\"_parent\"><img src=\"https://colab.research.google.com/assets/colab-badge.svg\" alt=\"Open In Colab\"/></a>"
      ]
    },
    {
      "cell_type": "markdown",
      "source": [
        "task 1\n",
        "\n",
        " Use AI to generate a Python program that implements the Merge Sort algorithm.\n",
        "Instructions:\n",
        "o Prompt AI to create a function merge_sort(arr) that sorts a\n",
        "   list in ascending order.\n",
        "o Ask AI to include time complexity and space complexity in\n",
        "  the function docstring.\n",
        "o Verify the generated code with test cases"
      ],
      "metadata": {
        "id": "UsWy8zXaLFI5"
      }
    },
    {
      "cell_type": "markdown",
      "source": [
        "prompt\n",
        "\n"
      ],
      "metadata": {
        "id": "Beh5BwSFLdQY"
      }
    },
    {
      "cell_type": "code",
      "metadata": {
        "colab": {
          "base_uri": "https://localhost:8080/"
        },
        "id": "fb200354",
        "outputId": "8da20638-1187-4b36-9618-29874cc84161"
      },
      "source": [
        "def merge_sort(arr):\n",
        "    \"\"\"\n",
        "    Sorts a list in ascending order using the Merge Sort algorithm.\n",
        "\n",
        "    Args:\n",
        "        arr: The list to be sorted.\n",
        "\n",
        "    Returns:\n",
        "        The sorted list.\n",
        "\n",
        "    Time Complexity: O(n log n)\n",
        "    Space Complexity: O(n)\n",
        "    \"\"\"\n",
        "    if len(arr) <= 1:\n",
        "        return arr\n",
        "\n",
        "    mid = len(arr) // 2\n",
        "    left_half = arr[:mid]\n",
        "    right_half = arr[mid:]\n",
        "\n",
        "    left_half = merge_sort(left_half)\n",
        "    right_half = merge_sort(right_half)\n",
        "\n",
        "    return merge(left_half, right_half)\n",
        "\n",
        "def merge(left, right):\n",
        "    \"\"\"\n",
        "    Merges two sorted lists into a single sorted list.\n",
        "\n",
        "    Args:\n",
        "        left: The left sorted list.\n",
        "        right: The right sorted list.\n",
        "\n",
        "    Returns:\n",
        "        The merged sorted list.\n",
        "    \"\"\"\n",
        "    merged_list = []\n",
        "    i = j = 0\n",
        "\n",
        "    while i < len(left) and j < len(right):\n",
        "        if left[i] < right[j]:\n",
        "            merged_list.append(left[i])\n",
        "            i += 1\n",
        "        else:\n",
        "            merged_list.append(right[j])\n",
        "            j += 1\n",
        "\n",
        "    while i < len(left):\n",
        "        merged_list.append(left[i])\n",
        "        i += 1\n",
        "\n",
        "    while j < len(right):\n",
        "        merged_list.append(right[j])\n",
        "        j += 1\n",
        "\n",
        "    return merged_list\n",
        "\n",
        "# Test cases\n",
        "test_cases = [\n",
        "    ([3, 6, 8, 10, 1, 2, 1], [1, 1, 2, 3, 6, 8, 10]),\n",
        "    ([5, 4, 3, 2, 1], [1, 2, 3, 4, 5]),\n",
        "    ([1], [1]),\n",
        "    ([], []),\n",
        "    ([1, 2, 3, 4, 5], [1, 2, 3, 4, 5]),\n",
        "    ([1, 1, 1, 1], [1, 1, 1, 1])\n",
        "]\n",
        "\n",
        "for input_arr, expected_output in test_cases:\n",
        "    actual_output = merge_sort(input_arr.copy()) # Use copy to avoid modifying the original list\n",
        "    assert actual_output == expected_output, f\"Input: {input_arr}, Expected: {expected_output}, Got: {actual_output}\"\n",
        "    print(f\"Test case passed for input: {input_arr}\")"
      ],
      "execution_count": 5,
      "outputs": [
        {
          "output_type": "stream",
          "name": "stdout",
          "text": [
            "Test case passed for input: [3, 6, 8, 10, 1, 2, 1]\n",
            "Test case passed for input: [5, 4, 3, 2, 1]\n",
            "Test case passed for input: [1]\n",
            "Test case passed for input: []\n",
            "Test case passed for input: [1, 2, 3, 4, 5]\n",
            "Test case passed for input: [1, 1, 1, 1]\n"
          ]
        }
      ]
    },
    {
      "cell_type": "markdown",
      "source": [
        "task 2\n",
        "\n",
        "Use AI to create a binary search function that finds a target\n",
        "element in a sorted list.\n",
        "• Instructions:\n",
        "o Prompt AI to create a function binary_search(arr, target)\n",
        "returning the index of the target or -1 if not found.\n",
        "o Include docstrings explaining best, average, and worst-\n",
        "case complexities.\n",
        "o Test with various inputs."
      ],
      "metadata": {
        "id": "agvnGgORLtgX"
      }
    },
    {
      "cell_type": "code",
      "metadata": {
        "colab": {
          "base_uri": "https://localhost:8080/"
        },
        "id": "c3abd74c",
        "outputId": "e01dccfc-3785-48bb-aa20-e014276134d8"
      },
      "source": [
        "def binary_search(arr, target):\n",
        "    \"\"\"\n",
        "    Finds the index of a target element in a sorted list using Binary Search.\n",
        "\n",
        "    Args:\n",
        "        arr: The sorted list to search within.\n",
        "        target: The element to search for.\n",
        "\n",
        "    Returns:\n",
        "        The index of the target element if found, otherwise -1.\n",
        "\n",
        "    Complexity:\n",
        "        Best Case: O(1) (Target is the middle element)\n",
        "        Average Case: O(log n)\n",
        "        Worst Case: O(log n) (Target is not in the list or is at the ends)\n",
        "    \"\"\"\n",
        "    low = 0\n",
        "    high = len(arr) - 1\n",
        "\n",
        "    while low <= high:\n",
        "        mid = (low + high) // 2\n",
        "        if arr[mid] == target:\n",
        "            return mid\n",
        "        elif arr[mid] < target:\n",
        "            low = mid + 1\n",
        "        else:\n",
        "            high = mid - 1\n",
        "\n",
        "    return -1\n",
        "\n",
        "# Test cases\n",
        "test_cases = [\n",
        "    ([1, 2, 3, 4, 5], 3, 2),  # Target in the middle\n",
        "    ([1, 2, 3, 4, 5], 1, 0),  # Target at the beginning\n",
        "    ([1, 2, 3, 4, 5], 5, 4),  # Target at the end\n",
        "    ([1, 2, 3, 4, 5], 6, -1), # Target not in the list\n",
        "    ([], 5, -1),             # Empty list\n",
        "    ([1], 1, 0),              # Single element list, target found\n",
        "    ([1], 2, -1),              # Single element list, target not found\n",
        "    ([1, 3, 5, 7, 9], 3, 1),\n",
        "    ([1, 3, 5, 7, 9], 9, 4),\n",
        "    ([1, 3, 5, 7, 9], 0, -1),\n",
        "    ([1, 3, 5, 7, 9], 10, -1)\n",
        "]\n",
        "\n",
        "for input_arr, target, expected_index in test_cases:\n",
        "    actual_index = binary_search(input_arr, target)\n",
        "    assert actual_index == expected_index, f\"Input: {input_arr}, Target: {target}, Expected Index: {expected_index}, Got: {actual_index}\"\n",
        "    print(f\"Test case passed for input: {input_arr}, target: {target}\")"
      ],
      "execution_count": 7,
      "outputs": [
        {
          "output_type": "stream",
          "name": "stdout",
          "text": [
            "Test case passed for input: [1, 2, 3, 4, 5], target: 3\n",
            "Test case passed for input: [1, 2, 3, 4, 5], target: 1\n",
            "Test case passed for input: [1, 2, 3, 4, 5], target: 5\n",
            "Test case passed for input: [1, 2, 3, 4, 5], target: 6\n",
            "Test case passed for input: [], target: 5\n",
            "Test case passed for input: [1], target: 1\n",
            "Test case passed for input: [1], target: 2\n",
            "Test case passed for input: [1, 3, 5, 7, 9], target: 3\n",
            "Test case passed for input: [1, 3, 5, 7, 9], target: 9\n",
            "Test case passed for input: [1, 3, 5, 7, 9], target: 0\n",
            "Test case passed for input: [1, 3, 5, 7, 9], target: 10\n"
          ]
        }
      ]
    },
    {
      "cell_type": "markdown",
      "source": [
        "task 3\n",
        "\n",
        "Scenario: A retail store’s inventory system contains thousands of products, each with attributes like product ID, name, price, and stock quantity. Store staff need to:\n",
        "\n",
        "1. Quickly search for a product by ID or name.\n",
        "\n",
        "2. Sort products by price or quantity for stock analysis.\n",
        "\n",
        " Task:\n",
        "\n",
        "o Use AI to suggest the most efficient search and sort algorithms for this use case.\n",
        "\n",
        "o Implement the recommended algorithms in Python.\n",
        "\n",
        "o Justify the choice based on dataset size, update frequency, and performance requirements"
      ],
      "metadata": {
        "id": "XbGdT8qDN260"
      }
    },
    {
      "cell_type": "code",
      "source": [
        "def binary_search(products, target_id):\n",
        "    low = 0\n",
        "    high = len(products) - 1\n",
        "    while low <= high:\n",
        "        mid = (low + high) // 2\n",
        "        if products[mid]['id'] == target_id:\n",
        "            return products[mid]\n",
        "        elif products[mid]['id'] < target_id:\n",
        "            low = mid + 1\n",
        "        else:\n",
        "            high = mid - 1\n",
        "    return None\n",
        "def quicksort(products, key):\n",
        "    if len(products) <= 1:\n",
        "        return products\n",
        "    pivot = products[len(products) // 2]\n",
        "    left = [x for x in products if x[key] < pivot[key]]\n",
        "    middle = [x for x in products if x[key] == pivot[key]]\n",
        "    right = [x for x in products if x[key] > pivot[key]]\n",
        "    return quicksort(left, key) + middle + quicksort(right, key)\n",
        "# Sample dataset\n",
        "products = [\n",
        "    {'id': 101, 'name': 'Apple', 'price': 0.5, 'quantity': 150},\n",
        "    {'id': 102, 'name': 'Banana', 'price': 0.3, 'quantity': 200},\n",
        "    {'id': 103, 'name': 'Orange', 'price': 0.7, 'quantity': 100},\n",
        "    {'id': 104, 'name': 'Mango', 'price': 1.5, 'quantity': 50},\n",
        "    {'id': 105, 'name': 'Grapes', 'price': 2.0, 'quantity': 80},\n",
        "]\n",
        "# Sort products by ID for binary search\n",
        "products.sort(key=lambda x: x['id'])\n",
        "# Search for a product by ID\n",
        "search_id = 103\n",
        "found_product = binary_search(products, search_id)\n",
        "print(f\"Product found: {found_product}\")\n",
        "# Sort products by price\n",
        "sorted_by_price = quicksort(products, 'price')\n",
        "print(\"Products sorted by price:\")\n",
        "for product in sorted_by_price:\n",
        "    print(product)\n",
        "#storted by quantity\n",
        "sorted_by_quantity = quicksort(products, 'quantity')\n",
        "print(\"Products sorted by quantity:\")\n",
        "for product in sorted_by_quantity:\n",
        "    print(product)"
      ],
      "metadata": {
        "colab": {
          "base_uri": "https://localhost:8080/"
        },
        "id": "iW3p1siEQ_b_",
        "outputId": "98bfb49b-8884-4143-fc34-a3de94fc8bb5"
      },
      "execution_count": 16,
      "outputs": [
        {
          "output_type": "stream",
          "name": "stdout",
          "text": [
            "Product found: {'id': 103, 'name': 'Orange', 'price': 0.7, 'quantity': 100}\n",
            "Products sorted by price:\n",
            "{'id': 102, 'name': 'Banana', 'price': 0.3, 'quantity': 200}\n",
            "{'id': 101, 'name': 'Apple', 'price': 0.5, 'quantity': 150}\n",
            "{'id': 103, 'name': 'Orange', 'price': 0.7, 'quantity': 100}\n",
            "{'id': 104, 'name': 'Mango', 'price': 1.5, 'quantity': 50}\n",
            "{'id': 105, 'name': 'Grapes', 'price': 2.0, 'quantity': 80}\n",
            "Products sorted by quantity:\n",
            "{'id': 104, 'name': 'Mango', 'price': 1.5, 'quantity': 50}\n",
            "{'id': 105, 'name': 'Grapes', 'price': 2.0, 'quantity': 80}\n",
            "{'id': 103, 'name': 'Orange', 'price': 0.7, 'quantity': 100}\n",
            "{'id': 101, 'name': 'Apple', 'price': 0.5, 'quantity': 150}\n",
            "{'id': 102, 'name': 'Banana', 'price': 0.3, 'quantity': 200}\n"
          ]
        }
      ]
    }
  ]
}