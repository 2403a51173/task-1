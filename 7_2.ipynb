{
  "nbformat": 4,
  "nbformat_minor": 0,
  "metadata": {
    "colab": {
      "provenance": [],
      "authorship_tag": "ABX9TyMJVUDLaVZ9Jc4qTrQfbEPg",
      "include_colab_link": true
    },
    "kernelspec": {
      "name": "python3",
      "display_name": "Python 3"
    },
    "language_info": {
      "name": "python"
    }
  },
  "cells": [
    {
      "cell_type": "markdown",
      "metadata": {
        "id": "view-in-github",
        "colab_type": "text"
      },
      "source": [
        "<a href=\"https://colab.research.google.com/github/2403a51173/task-1/blob/main/7_2.ipynb\" target=\"_parent\"><img src=\"https://colab.research.google.com/assets/colab-badge.svg\" alt=\"Open In Colab\"/></a>"
      ]
    },
    {
      "cell_type": "markdown",
      "source": [
        "task 1\n",
        "Syntax Error in Conditionals"
      ],
      "metadata": {
        "id": "eAhdqeEt8_6l"
      }
    },
    {
      "cell_type": "code",
      "execution_count": 1,
      "metadata": {
        "colab": {
          "base_uri": "https://localhost:8080/"
        },
        "id": "7uvsUt3G6jIP",
        "outputId": "bef17dda-9b55-4869-98f4-562ef9426984"
      },
      "outputs": [
        {
          "output_type": "stream",
          "name": "stdout",
          "text": [
            "equal\n"
          ]
        }
      ],
      "source": [
        "a=10\n",
        "if a==10:\n",
        "    print(\"equal\")"
      ]
    },
    {
      "cell_type": "markdown",
      "source": [
        " explaintion:\n",
        "\n",
        " The error happened because I used a single '=' which is for assigning values, instead of '==' which is for checking if two values are the same."
      ],
      "metadata": {
        "id": "pZop0k2rB_lC"
      }
    },
    {
      "cell_type": "markdown",
      "source": [
        "task 2\n",
        "Loop Off-By-One Error."
      ],
      "metadata": {
        "id": "vgUZwC0H9OP0"
      }
    },
    {
      "cell_type": "code",
      "source": [
        "def sum_upto_n(n):\n",
        "    total=0\n",
        "    for i in range(1,n+1):\n",
        "        total+=i\n",
        "    return total\n",
        "print(sum_upto_n(5))"
      ],
      "metadata": {
        "colab": {
          "base_uri": "https://localhost:8080/"
        },
        "id": "SuvNeRAu9UUG",
        "outputId": "75c37d27-a560-403b-c6ab-9b16205d7ea9"
      },
      "execution_count": 6,
      "outputs": [
        {
          "output_type": "stream",
          "name": "stdout",
          "text": [
            "15\n"
          ]
        }
      ]
    },
    {
      "cell_type": "markdown",
      "source": [
        "explation:\n",
        "\n",
        "The error happened because the range function goes up to but does not include the number 'n'.\n",
        "So, to include 'n' in the sum, we need to use 'n+1'.\n",
        "The corrected code uses range(1, n+1) to include 'n' in the summation."
      ],
      "metadata": {
        "id": "aUxXxCx8DOcd"
      }
    },
    {
      "cell_type": "markdown",
      "source": [
        "task 3\n",
        "AttributeError"
      ],
      "metadata": {
        "id": "qLRLMZ3I9qRS"
      }
    },
    {
      "cell_type": "code",
      "source": [
        "class user:\n",
        "    def __init__(self,name):\n",
        "        self.name=name\n",
        "    def getName(self):\n",
        "       return self.name\n",
        "u=user(\"alice\")\n",
        "print(u.getName())"
      ],
      "metadata": {
        "colab": {
          "base_uri": "https://localhost:8080/"
        },
        "id": "0VpZj6EG9w4h",
        "outputId": "3de64cd3-9ec4-4a9c-9631-1504a901d3d3"
      },
      "execution_count": 7,
      "outputs": [
        {
          "output_type": "stream",
          "name": "stdout",
          "text": [
            "alice\n"
          ]
        }
      ]
    },
    {
      "cell_type": "markdown",
      "source": [
        "explation:\n",
        "\n",
        "The error happened because the method getName() is not defined in the user class. To fix this, we need to add a method called getName() that returns the name attribute of the user instance.\n",
        "The corrected code includes a getName() method that returns the user's name, allowing us to print it without errors"
      ],
      "metadata": {
        "id": "a-Dqt8OIDxSg"
      }
    },
    {
      "cell_type": "markdown",
      "source": [
        "task 4\n",
        "Incorrect Class Attribute Initialization"
      ],
      "metadata": {
        "id": "V2oGm5od91L5"
      }
    },
    {
      "cell_type": "code",
      "source": [
        "class car:\n",
        "    def start(self):\n",
        "        print(\"car started\")\n",
        "mycar=car()\n",
        "mycar.start()"
      ],
      "metadata": {
        "id": "DHytlwjm998d"
      },
      "execution_count": null,
      "outputs": []
    },
    {
      "cell_type": "markdown",
      "source": [
        "explation:\n",
        "\n",
        "The error happened because the start method is missing the 'self' parameter, which is required for instance methods in Python classes. The 'self' parameter allows the method to access instance attributes and other methods.\n",
        "The corrected code includes 'self' as the first parameter"
      ],
      "metadata": {
        "id": "QrdhHJZWD15O"
      }
    },
    {
      "cell_type": "markdown",
      "source": [
        "task 5\n",
        "Conditional Logic Error in Grading System"
      ],
      "metadata": {
        "id": "TH7AmAKHAbG7"
      }
    },
    {
      "cell_type": "code",
      "source": [
        "def grade_student(score):\n",
        "    if score<40:\n",
        "        return 'A'\n",
        "    elif score<70:\n",
        "        return 'B'\n",
        "    else:\n",
        "        return 'C'\n",
        "print(grade_student(5))"
      ],
      "metadata": {
        "colab": {
          "base_uri": "https://localhost:8080/"
        },
        "id": "S4h5KV4JAbxo",
        "outputId": "4af48eb4-25b9-4434-bc26-1de2080b0e79"
      },
      "execution_count": 10,
      "outputs": [
        {
          "output_type": "stream",
          "name": "stdout",
          "text": [
            "A\n"
          ]
        }
      ]
    },
    {
      "cell_type": "markdown",
      "source": [
        "explation:\n",
        "\n",
        "The error happened because the function name is misspelled as 'geade_student' instead of 'grade_student'. This would lead to a NameError if we try to call the function using the correct spelling."
      ],
      "metadata": {
        "id": "c60jG_egD3lH"
      }
    }
  ]
}